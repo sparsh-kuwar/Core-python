{
  "nbformat": 4,
  "nbformat_minor": 0,
  "metadata": {
    "colab": {
      "provenance": [],
      "authorship_tag": "ABX9TyOvPVWoHgq8snhI+OCI6U7s",
      "include_colab_link": true
    },
    "kernelspec": {
      "name": "python3",
      "display_name": "Python 3"
    },
    "language_info": {
      "name": "python"
    }
  },
  "cells": [
    {
      "cell_type": "markdown",
      "metadata": {
        "id": "view-in-github",
        "colab_type": "text"
      },
      "source": [
        "<a href=\"https://colab.research.google.com/github/sparsh-kuwar/Core-python/blob/main/05for.ipynb\" target=\"_parent\"><img src=\"https://colab.research.google.com/assets/colab-badge.svg\" alt=\"Open In Colab\"/></a>"
      ]
    },
    {
      "cell_type": "code",
      "execution_count": null,
      "metadata": {
        "colab": {
          "base_uri": "https://localhost:8080/"
        },
        "id": "f6o7v3LD5dsG",
        "outputId": "9e745a5b-20d5-4851-e109-56ee9dd609be"
      },
      "outputs": [
        {
          "output_type": "stream",
          "name": "stdout",
          "text": [
            "print welcome sparsh's\n",
            "print welcome sparsh's\n",
            "print welcome sparsh's\n",
            "print welcome sparsh's\n"
          ]
        }
      ],
      "source": [
        "for i in range (1,5):\n",
        "  print(\"print welcome sparsh's\")"
      ]
    },
    {
      "cell_type": "code",
      "source": [
        "for i in range (1,6):\n",
        "  print('welcome Sparsh',i)"
      ],
      "metadata": {
        "colab": {
          "base_uri": "https://localhost:8080/"
        },
        "id": "UYfkz5YR8D7P",
        "outputId": "ee49dd47-2337-499d-ba21-609a8f35b49c"
      },
      "execution_count": null,
      "outputs": [
        {
          "output_type": "stream",
          "name": "stdout",
          "text": [
            "welcome Sparsh 1\n",
            "welcome Sparsh 2\n",
            "welcome Sparsh 3\n",
            "welcome Sparsh 4\n",
            "welcome Sparsh 5\n"
          ]
        }
      ]
    },
    {
      "cell_type": "code",
      "source": [
        "n=int(input('enter the number :'))\n",
        "for i in range(1,11):\n",
        "  no=(n*i)\n",
        "  print(n*i)\n",
        "  print(f'{n}x{i}={no}')"
      ],
      "metadata": {
        "colab": {
          "base_uri": "https://localhost:8080/"
        },
        "id": "8SJpF2ao8ZDL",
        "outputId": "1a5f675e-93fb-498a-e19a-46ecf13f6c70"
      },
      "execution_count": null,
      "outputs": [
        {
          "output_type": "stream",
          "name": "stdout",
          "text": [
            "enter the number :13\n",
            "13\n",
            "13x1=13\n",
            "26\n",
            "13x2=26\n",
            "39\n",
            "13x3=39\n",
            "52\n",
            "13x4=52\n",
            "65\n",
            "13x5=65\n",
            "78\n",
            "13x6=78\n",
            "91\n",
            "13x7=91\n",
            "104\n",
            "13x8=104\n",
            "117\n",
            "13x9=117\n",
            "130\n",
            "13x10=130\n"
          ]
        }
      ]
    },
    {
      "cell_type": "markdown",
      "source": [
        "**gaps for loop**"
      ],
      "metadata": {
        "id": "xhuKZXk7-C_C"
      }
    },
    {
      "cell_type": "code",
      "source": [
        "for i in range(2,23,3):\n",
        "  print(i)"
      ],
      "metadata": {
        "colab": {
          "base_uri": "https://localhost:8080/"
        },
        "id": "VaigtbFd9r7v",
        "outputId": "f58f157a-16d4-41c0-ad74-1e94cb145c13"
      },
      "execution_count": null,
      "outputs": [
        {
          "output_type": "stream",
          "name": "stdout",
          "text": [
            "2\n",
            "5\n",
            "8\n",
            "11\n",
            "14\n",
            "17\n",
            "20\n"
          ]
        }
      ]
    },
    {
      "cell_type": "code",
      "source": [
        "for i in range(20,9,-1):\n",
        "  print(i)\n"
      ],
      "metadata": {
        "colab": {
          "base_uri": "https://localhost:8080/"
        },
        "id": "2niOoL6g-SpT",
        "outputId": "5cc9d749-f93d-43c7-8137-1e44351bd7c9"
      },
      "execution_count": null,
      "outputs": [
        {
          "output_type": "stream",
          "name": "stdout",
          "text": [
            "20\n",
            "19\n",
            "18\n",
            "17\n",
            "16\n",
            "15\n",
            "14\n",
            "13\n",
            "12\n",
            "11\n",
            "10\n"
          ]
        }
      ]
    },
    {
      "cell_type": "markdown",
      "source": [],
      "metadata": {
        "id": "hsyIL-jR-SYL"
      }
    }
  ]
}