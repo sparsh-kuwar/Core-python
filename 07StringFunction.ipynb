{
  "nbformat": 4,
  "nbformat_minor": 0,
  "metadata": {
    "colab": {
      "provenance": [],
      "authorship_tag": "ABX9TyOHNQUd121SA4YN2uNxbJAZ",
      "include_colab_link": true
    },
    "kernelspec": {
      "name": "python3",
      "display_name": "Python 3"
    },
    "language_info": {
      "name": "python"
    }
  },
  "cells": [
    {
      "cell_type": "markdown",
      "metadata": {
        "id": "view-in-github",
        "colab_type": "text"
      },
      "source": [
        "<a href=\"https://colab.research.google.com/github/sparsh-kuwar/Core-python/blob/main/07StringFunction.ipynb\" target=\"_parent\"><img src=\"https://colab.research.google.com/assets/colab-badge.svg\" alt=\"Open In Colab\"/></a>"
      ]
    },
    {
      "cell_type": "code",
      "execution_count": null,
      "metadata": {
        "id": "uazg3xPBKY6G"
      },
      "outputs": [],
      "source": [
        "nm='sparhskuwar is microsoft patner '"
      ]
    },
    {
      "cell_type": "code",
      "source": [
        "print(nm.upper())\n",
        "print(nm.lower())\n",
        "print(nm.capitalize())\n",
        "print(nm.title())"
      ],
      "metadata": {
        "colab": {
          "base_uri": "https://localhost:8080/"
        },
        "id": "d5yC1EQFLtE9",
        "outputId": "5ceb4373-c079-4a3b-ddd2-2d27f20c1bf9"
      },
      "execution_count": null,
      "outputs": [
        {
          "output_type": "stream",
          "name": "stdout",
          "text": [
            "SPARHSKUWAR IS MICROSOFT PATNER \n",
            "sparhskuwar is microsoft patner \n",
            "Sparhskuwar is microsoft patner \n",
            "Sparhskuwar Is Microsoft Patner \n"
          ]
        }
      ]
    },
    {
      "cell_type": "code",
      "source": [
        "city='  london   '\n",
        "print(city.lstrip())\n",
        "print(city.rstrip())\n",
        "print(city.strip())"
      ],
      "metadata": {
        "colab": {
          "base_uri": "https://localhost:8080/"
        },
        "id": "mWUNM_6JMnzA",
        "outputId": "9925c509-9fd3-4ff5-b233-39a94324910a"
      },
      "execution_count": null,
      "outputs": [
        {
          "output_type": "stream",
          "name": "stdout",
          "text": [
            "london   \n",
            "  london\n",
            "london\n"
          ]
        }
      ]
    },
    {
      "cell_type": "code",
      "source": [
        "slogan='we will never walk alone'\n",
        "slogan.replace('walk','talk') #cannot replace directly\n",
        "print(slogan)\n",
        "slogan=slogan.replace('walk','talk')\n",
        "print(slogan)\n",
        "slogan=slogan.replace('walk','communicate')\n",
        "print(slogan)"
      ],
      "metadata": {
        "colab": {
          "base_uri": "https://localhost:8080/"
        },
        "id": "CuZd8mTKNnY3",
        "outputId": "413b746c-fb5d-42ae-fa3e-8dff80763a50"
      },
      "execution_count": null,
      "outputs": [
        {
          "output_type": "stream",
          "name": "stdout",
          "text": [
            "we will never walk alone\n",
            "we will never talk alone\n",
            "we will never talk alone\n"
          ]
        }
      ]
    },
    {
      "cell_type": "code",
      "source": [
        "slogan='we will never walk alone'\n",
        "slogan=slogan.replace('walk','communicate')\n",
        "print(slogan)"
      ],
      "metadata": {
        "colab": {
          "base_uri": "https://localhost:8080/"
        },
        "outputId": "d75adb98-8e62-4e08-f6c7-24bb162bd05a",
        "id": "s3EMDcxnObwU"
      },
      "execution_count": null,
      "outputs": [
        {
          "output_type": "stream",
          "name": "stdout",
          "text": [
            "we will never communicate alone\n"
          ]
        }
      ]
    },
    {
      "cell_type": "markdown",
      "source": [
        "**split**"
      ],
      "metadata": {
        "id": "M9m2iqVaOip7"
      }
    },
    {
      "cell_type": "code",
      "source": [
        "slogan='you will never walk alone'\n",
        "print(slogan.split())\n",
        "maths=\"this*other this*adds to that\"\n",
        "print(maths.split('*'))\n",
        "flim='the matrix,1999,action,keanu reeces,eglish,9.1'\n",
        "print(flim.split(','))\n",
        "\n"
      ],
      "metadata": {
        "colab": {
          "base_uri": "https://localhost:8080/"
        },
        "id": "BpaejQKaOnt3",
        "outputId": "700d2169-146f-4795-cdf5-6739359e9afd"
      },
      "execution_count": null,
      "outputs": [
        {
          "output_type": "stream",
          "name": "stdout",
          "text": [
            "['you', 'will', 'never', 'walk', 'alone']\n",
            "['this', 'other this', 'adds to that']\n",
            "['the matrix', '1999', 'action', 'keanu reeces', 'eglish', '9.1']\n"
          ]
        }
      ]
    },
    {
      "cell_type": "markdown",
      "source": [
        "**find**"
      ],
      "metadata": {
        "id": "fv6yKqy1QssQ"
      }
    },
    {
      "cell_type": "code",
      "source": [
        "nm='sparsh'\n",
        "print(nm.find('e'))\n",
        "print(nm.find('a'))\n",
        "print(nm.find)"
      ],
      "metadata": {
        "colab": {
          "base_uri": "https://localhost:8080/"
        },
        "id": "SSAPq9vJQv0P",
        "outputId": "6cfe18ef-1d4b-403f-9544-5343d5866677"
      },
      "execution_count": null,
      "outputs": [
        {
          "output_type": "stream",
          "name": "stdout",
          "text": [
            "-1\n",
            "2\n"
          ]
        }
      ]
    },
    {
      "cell_type": "markdown",
      "source": [
        "**joint**"
      ],
      "metadata": {
        "id": "GvScVKf8RkeX"
      }
    },
    {
      "cell_type": "code",
      "source": [
        "print('-'.join(['soham','global','technologies']))"
      ],
      "metadata": {
        "colab": {
          "base_uri": "https://localhost:8080/"
        },
        "id": "0IjIM44mRU7C",
        "outputId": "9782a1a8-07a8-4575-da7a-aac08bb49dcc"
      },
      "execution_count": null,
      "outputs": [
        {
          "output_type": "stream",
          "name": "stdout",
          "text": [
            "soham-global-technologies\n"
          ]
        }
      ]
    },
    {
      "cell_type": "markdown",
      "source": [],
      "metadata": {
        "id": "-KYGIsptRoPl"
      }
    },
    {
      "cell_type": "markdown",
      "source": [
        "**INDEXt**"
      ],
      "metadata": {
        "id": "uGt-qYWFSU5j"
      }
    },
    {
      "cell_type": "code",
      "source": [
        "nm='volkswagon'\n",
        "print(nm.index('w'))\n",
        "nm='volkswagon is a car company'\n",
        "print(nm.index('car'))\n",
        "print(nm.index('key')) #if not find it gives out error"
      ],
      "metadata": {
        "colab": {
          "base_uri": "https://localhost:8080/",
          "height": 207
        },
        "id": "nC681yFQRyP1",
        "outputId": "6aac865f-9bb4-4834-9148-c3ab9068e6a2"
      },
      "execution_count": null,
      "outputs": [
        {
          "output_type": "stream",
          "name": "stdout",
          "text": [
            "5\n",
            "16\n"
          ]
        },
        {
          "output_type": "error",
          "ename": "ValueError",
          "evalue": "substring not found",
          "traceback": [
            "\u001b[0;31m---------------------------------------------------------------------------\u001b[0m",
            "\u001b[0;31mValueError\u001b[0m                                Traceback (most recent call last)",
            "\u001b[0;32m/tmp/ipython-input-33-770716915.py\u001b[0m in \u001b[0;36m<cell line: 0>\u001b[0;34m()\u001b[0m\n\u001b[1;32m      3\u001b[0m \u001b[0mnm\u001b[0m\u001b[0;34m=\u001b[0m\u001b[0;34m'volkswagon is a car company'\u001b[0m\u001b[0;34m\u001b[0m\u001b[0;34m\u001b[0m\u001b[0m\n\u001b[1;32m      4\u001b[0m \u001b[0mprint\u001b[0m\u001b[0;34m(\u001b[0m\u001b[0mnm\u001b[0m\u001b[0;34m.\u001b[0m\u001b[0mindex\u001b[0m\u001b[0;34m(\u001b[0m\u001b[0;34m'car'\u001b[0m\u001b[0;34m)\u001b[0m\u001b[0;34m)\u001b[0m\u001b[0;34m\u001b[0m\u001b[0;34m\u001b[0m\u001b[0m\n\u001b[0;32m----> 5\u001b[0;31m \u001b[0mprint\u001b[0m\u001b[0;34m(\u001b[0m\u001b[0mnm\u001b[0m\u001b[0;34m.\u001b[0m\u001b[0mindex\u001b[0m\u001b[0;34m(\u001b[0m\u001b[0;34m'key'\u001b[0m\u001b[0;34m)\u001b[0m\u001b[0;34m)\u001b[0m\u001b[0;34m\u001b[0m\u001b[0;34m\u001b[0m\u001b[0m\n\u001b[0m",
            "\u001b[0;31mValueError\u001b[0m: substring not found"
          ]
        }
      ]
    },
    {
      "cell_type": "markdown",
      "source": [
        "**find**"
      ],
      "metadata": {
        "id": "miZHqZGzSYP_"
      }
    },
    {
      "cell_type": "code",
      "source": [
        "nm='sparsh kuwar is handsome'\n",
        "print(nm.find('kuwar'))\n",
        "print(nm.find('is'))\n",
        "print(nm.find('ugly'))# if not found returns -1"
      ],
      "metadata": {
        "colab": {
          "base_uri": "https://localhost:8080/"
        },
        "id": "1gGcJgKNSX4C",
        "outputId": "92393357-39f0-4588-97e9-f1f72f5c53c9"
      },
      "execution_count": null,
      "outputs": [
        {
          "output_type": "stream",
          "name": "stdout",
          "text": [
            "7\n",
            "13\n",
            "-1\n"
          ]
        }
      ]
    },
    {
      "cell_type": "markdown",
      "source": [
        "**COUNT**"
      ],
      "metadata": {
        "id": "Xpm_ngBJSqGX"
      }
    },
    {
      "cell_type": "code",
      "source": [
        "str='technogy is power technology is future'\n",
        "print(str.count('e'))\n",
        "print(str.count('is'))"
      ],
      "metadata": {
        "colab": {
          "base_uri": "https://localhost:8080/"
        },
        "id": "CWs5xhWoSrfQ",
        "outputId": "b37a4717-6007-499b-d3bd-4c16dc3ec2ea"
      },
      "execution_count": null,
      "outputs": [
        {
          "output_type": "stream",
          "name": "stdout",
          "text": [
            "4\n",
            "2\n"
          ]
        }
      ]
    },
    {
      "cell_type": "markdown",
      "source": [
        "**STARTS_WITH\n",
        "ENDS_WITH**"
      ],
      "metadata": {
        "id": "WOULlS9rTW0e"
      }
    },
    {
      "cell_type": "code",
      "source": [
        "ques='what is the capital of England ?'\n",
        "print(ques.startswith('where'))\n",
        "print(ques.startswith('what'))\n",
        "print(ques.endswith('?'))"
      ],
      "metadata": {
        "colab": {
          "base_uri": "https://localhost:8080/"
        },
        "id": "tESFqqw9TFA2",
        "outputId": "76170276-878c-4f17-840c-0dfad8678b10"
      },
      "execution_count": null,
      "outputs": [
        {
          "output_type": "stream",
          "name": "stdout",
          "text": [
            "False\n",
            "True\n",
            "True\n"
          ]
        }
      ]
    },
    {
      "cell_type": "code",
      "source": [
        "nm='sparsh'\n",
        "print(nm.isalpha())#check wether the string is a character\n",
        "nm='97769'\n",
        "print(nm.isdigit())\n",
        "nm='%#@$%'\n",
        "print(nm.isnumeric())\n",
        "ps='chelsea786'\n",
        "print(ps.isalnum())\n",
        "str=' '\n",
        "print(str.isspace())\n",
        "str=''\n",
        "print(str.isspace())"
      ],
      "metadata": {
        "id": "M8Y2UF8lTmNo",
        "colab": {
          "base_uri": "https://localhost:8080/"
        },
        "outputId": "cfa71b4a-8e9f-4607-90cd-d97624b124b5"
      },
      "execution_count": null,
      "outputs": [
        {
          "output_type": "stream",
          "name": "stdout",
          "text": [
            "True\n",
            "True\n",
            "False\n",
            "True\n",
            "True\n",
            "False\n"
          ]
        }
      ]
    },
    {
      "cell_type": "markdown",
      "source": [
        "**SWAP**"
      ],
      "metadata": {
        "id": "9VWEU3OTWyRT"
      }
    },
    {
      "cell_type": "code",
      "source": [
        "nm='SparshKuwar'\n",
        "print(nm.swapcase())"
      ],
      "metadata": {
        "colab": {
          "base_uri": "https://localhost:8080/"
        },
        "id": "J-KBf_QpWvXJ",
        "outputId": "043a6891-b022-4612-8d42-1277cb30475e"
      },
      "execution_count": null,
      "outputs": [
        {
          "output_type": "stream",
          "name": "stdout",
          "text": [
            "sPARSHkUWAR\n"
          ]
        }
      ]
    },
    {
      "cell_type": "code",
      "source": [
        "n='13'\n",
        "print(n.zfill(10)) #it will fill you string with zero to reach the length"
      ],
      "metadata": {
        "colab": {
          "base_uri": "https://localhost:8080/"
        },
        "id": "it0BfdimXACi",
        "outputId": "cedeeaab-1e23-46e0-b591-26df7c4aeac7"
      },
      "execution_count": null,
      "outputs": [
        {
          "output_type": "stream",
          "name": "stdout",
          "text": [
            "0000000013\n"
          ]
        }
      ]
    },
    {
      "cell_type": "code",
      "source": [
        "print('hi.1just(10,'#)')33"
      ],
      "metadata": {
        "id": "TwNXCXBkXYgi"
      },
      "execution_count": null,
      "outputs": []
    }
  ]
}