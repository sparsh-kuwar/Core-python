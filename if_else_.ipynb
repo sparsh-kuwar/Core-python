{
  "nbformat": 4,
  "nbformat_minor": 0,
  "metadata": {
    "colab": {
      "provenance": [],
      "authorship_tag": "ABX9TyM/qLYxFYnDHz2cmZ3A6JBU",
      "include_colab_link": true
    },
    "kernelspec": {
      "name": "python3",
      "display_name": "Python 3"
    },
    "language_info": {
      "name": "python"
    }
  },
  "cells": [
    {
      "cell_type": "markdown",
      "metadata": {
        "id": "view-in-github",
        "colab_type": "text"
      },
      "source": [
        "<a href=\"https://colab.research.google.com/github/sparsh-kuwar/Core-python/blob/main/if_else_.ipynb\" target=\"_parent\"><img src=\"https://colab.research.google.com/assets/colab-badge.svg\" alt=\"Open In Colab\"/></a>"
      ]
    },
    {
      "cell_type": "code",
      "execution_count": null,
      "metadata": {
        "colab": {
          "base_uri": "https://localhost:8080/"
        },
        "id": "8Ux0TVVZz9Wi",
        "outputId": "f6ee55ff-fb85-4d9b-da77-52e47f72a490"
      },
      "outputs": [
        {
          "output_type": "stream",
          "name": "stdout",
          "text": [
            "enter the marks out of 100 :67\n",
            "congralations\n",
            "you are pass\n"
          ]
        }
      ],
      "source": [
        "marks=int(input('enter the marks out of 100 :'))\n",
        "\n",
        "if marks>=35 :\n",
        "  print('congralations')\n",
        "  print('you are pass')\n",
        "else :\n",
        "  print('sorry')\n",
        "  print('you have fail')\n"
      ]
    },
    {
      "cell_type": "markdown",
      "source": [],
      "metadata": {
        "id": "rAcaL6sVz-XE"
      }
    },
    {
      "cell_type": "code",
      "source": [
        "amount = int(input('enter your bill amount : '))\n",
        "if amount>=20000:\n",
        "  print('you will get discount of 13%')\n",
        "  disc= amount*0.13\n",
        "else:\n",
        "  print('you will discount of 9%')\n",
        "  disc= amount*0.09\n",
        "total_bill = amount-disc\n",
        "print('your discount amount is :',disc)\n",
        "print('your final bill is :',total_bill)"
      ],
      "metadata": {
        "colab": {
          "base_uri": "https://localhost:8080/"
        },
        "id": "m_E3lYJj0_AD",
        "outputId": "6e72b160-9f43-4b19-cff5-0cc7d8e902af"
      },
      "execution_count": null,
      "outputs": [
        {
          "output_type": "stream",
          "name": "stdout",
          "text": [
            "enter your bill amount : 2000\n",
            "you will discount of 9%\n",
            "your discount amount is : 180.0\n",
            "your final bill is : 1820.0\n"
          ]
        }
      ]
    },
    {
      "cell_type": "code",
      "source": [
        "age=int(input('enter your age :'))\n",
        "exp=int(input('enter your experience :'))\n",
        "if age<=40 and exp>2:\n",
        "  print('you are eligible for the job')\n",
        "else:\n",
        "  print('you are not eligible for the job')"
      ],
      "metadata": {
        "colab": {
          "base_uri": "https://localhost:8080/"
        },
        "id": "BUa3X0KF2tzG",
        "outputId": "f6818b1f-699c-4ceb-84b1-37a05a1e4f3c"
      },
      "execution_count": null,
      "outputs": [
        {
          "output_type": "stream",
          "name": "stdout",
          "text": [
            "enter your age :2\n",
            "enter your experience :2\n",
            "you are not eligible for the job\n"
          ]
        }
      ]
    },
    {
      "cell_type": "code",
      "source": [
        "n=int(input('enter the number :'))\n",
        "if n%2==0:\n",
        "  print('number is even')\n",
        "else:\n",
        "  print('number is odd')"
      ],
      "metadata": {
        "colab": {
          "base_uri": "https://localhost:8080/"
        },
        "id": "nw2kuxV83I5a",
        "outputId": "cc63e2b2-0588-437d-ee42-471f4945f96a"
      },
      "execution_count": null,
      "outputs": [
        {
          "output_type": "stream",
          "name": "stdout",
          "text": [
            "enter the number :7\n",
            "number is odd\n"
          ]
        }
      ]
    },
    {
      "cell_type": "code",
      "source": [],
      "metadata": {
        "id": "21hwRuFu4vLP"
      },
      "execution_count": null,
      "outputs": []
    }
  ]
}