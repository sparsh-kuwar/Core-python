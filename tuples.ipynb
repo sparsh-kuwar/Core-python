{
  "nbformat": 4,
  "nbformat_minor": 0,
  "metadata": {
    "colab": {
      "provenance": [],
      "authorship_tag": "ABX9TyMluep6r2CExCvvOnWZEn8g",
      "include_colab_link": true
    },
    "kernelspec": {
      "name": "python3",
      "display_name": "Python 3"
    },
    "language_info": {
      "name": "python"
    }
  },
  "cells": [
    {
      "cell_type": "markdown",
      "metadata": {
        "id": "view-in-github",
        "colab_type": "text"
      },
      "source": [
        "<a href=\"https://colab.research.google.com/github/sparsh-kuwar/Core-python/blob/main/tuples.ipynb\" target=\"_parent\"><img src=\"https://colab.research.google.com/assets/colab-badge.svg\" alt=\"Open In Colab\"/></a>"
      ]
    },
    {
      "cell_type": "code",
      "execution_count": null,
      "metadata": {
        "colab": {
          "base_uri": "https://localhost:8080/",
          "height": 207
        },
        "id": "je1HcR9iLqAI",
        "outputId": "f71c623f-ebff-43be-d14a-bb49ec034119"
      },
      "outputs": [
        {
          "output_type": "stream",
          "name": "stdout",
          "text": [
            "['dhule', 'amrava', 'pune', 'manhattan']\n"
          ]
        },
        {
          "output_type": "error",
          "ename": "AttributeError",
          "evalue": "'tuple' object has no attribute 'append'",
          "traceback": [
            "\u001b[0;31m---------------------------------------------------------------------------\u001b[0m",
            "\u001b[0;31mAttributeError\u001b[0m                            Traceback (most recent call last)",
            "\u001b[0;32m/tmp/ipython-input-6-2371419628.py\u001b[0m in \u001b[0;36m<cell line: 0>\u001b[0;34m()\u001b[0m\n\u001b[1;32m      3\u001b[0m \u001b[0mplaces\u001b[0m\u001b[0;34m.\u001b[0m\u001b[0mappend\u001b[0m\u001b[0;34m(\u001b[0m\u001b[0;34m'manhattan'\u001b[0m\u001b[0;34m)\u001b[0m\u001b[0;34m\u001b[0m\u001b[0;34m\u001b[0m\u001b[0m\n\u001b[1;32m      4\u001b[0m \u001b[0mprint\u001b[0m\u001b[0;34m(\u001b[0m\u001b[0mplaces\u001b[0m\u001b[0;34m)\u001b[0m\u001b[0;34m\u001b[0m\u001b[0;34m\u001b[0m\u001b[0m\n\u001b[0;32m----> 5\u001b[0;31m \u001b[0mcountries\u001b[0m\u001b[0;34m.\u001b[0m\u001b[0mappend\u001b[0m\u001b[0;34m(\u001b[0m\u001b[0;34m'australia'\u001b[0m\u001b[0;34m)\u001b[0m\u001b[0;34m\u001b[0m\u001b[0;34m\u001b[0m\u001b[0m\n\u001b[0m\u001b[1;32m      6\u001b[0m \u001b[0mprint\u001b[0m\u001b[0;34m(\u001b[0m\u001b[0mcountries\u001b[0m\u001b[0;34m)\u001b[0m\u001b[0;34m\u001b[0m\u001b[0;34m\u001b[0m\u001b[0m\n",
            "\u001b[0;31mAttributeError\u001b[0m: 'tuple' object has no attribute 'append'"
          ]
        }
      ],
      "source": [
        "places=['dhule','amrava','pune']\n",
        "countries=('india','usa','jap')\n",
        "places.append('manhattan')\n",
        "print(places)\n",
        "countries.append('australia')\n",
        "print(countries)"
      ]
    },
    {
      "cell_type": "code",
      "source": [
        "nm=('sparsh','lewis hamilton','pagani')\n",
        "print(type(nm))\n",
        "print(nm[2:])\n",
        "print(nm[::-1])\n",
        "print(nm[-1])"
      ],
      "metadata": {
        "colab": {
          "base_uri": "https://localhost:8080/"
        },
        "id": "9pLYjW1iORbO",
        "outputId": "c26e0d5f-599f-4d3d-dcfb-11f718b74b0e"
      },
      "execution_count": null,
      "outputs": [
        {
          "output_type": "stream",
          "name": "stdout",
          "text": [
            "<class 'tuple'>\n",
            "('pagani',)\n",
            "('pagani', 'lewis hamilton', 'sparsh')\n",
            "pagani\n"
          ]
        }
      ]
    },
    {
      "cell_type": "code",
      "source": [
        "mix=('python',1891,13.9,False)\n",
        "print(mix)\n",
        "for value in mix:\n",
        "  print(value)\n",
        "  print(type(value))"
      ],
      "metadata": {
        "colab": {
          "base_uri": "https://localhost:8080/"
        },
        "id": "2gQVSDpdP0pN",
        "outputId": "98bed99d-ea1b-4bd8-ab17-9c065a35dc73"
      },
      "execution_count": null,
      "outputs": [
        {
          "output_type": "stream",
          "name": "stdout",
          "text": [
            "('python', 1891, 13.9, False)\n",
            "python\n",
            "<class 'str'>\n",
            "1891\n",
            "<class 'int'>\n",
            "13.9\n",
            "<class 'float'>\n",
            "False\n",
            "<class 'bool'>\n"
          ]
        }
      ]
    },
    {
      "cell_type": "code",
      "source": [
        "t=('java','python',['microsoft','google','oracle'])\n",
        "print(t)\n"
      ],
      "metadata": {
        "colab": {
          "base_uri": "https://localhost:8080/"
        },
        "id": "8hBI4xI_RFIZ",
        "outputId": "0e46ab70-a992-418b-a9cf-de3c60555543"
      },
      "execution_count": null,
      "outputs": [
        {
          "output_type": "stream",
          "name": "stdout",
          "text": [
            "('java', 'python', ['microsoft', 'google', 'oracle'])\n"
          ]
        }
      ]
    },
    {
      "cell_type": "code",
      "source": [
        "tp=('java','python',['microsoft','google','oracle'])\n",
        "tp[2].append('mysql')\n",
        "print(tp)\n"
      ],
      "metadata": {
        "colab": {
          "base_uri": "https://localhost:8080/"
        },
        "id": "0nWvSkseR25o",
        "outputId": "e486a59c-6396-4320-c414-ca2fcf619fcd"
      },
      "execution_count": null,
      "outputs": [
        {
          "output_type": "stream",
          "name": "stdout",
          "text": [
            "('java', 'python', ['microsoft', 'google', 'oracle', 'mysql'])\n"
          ]
        }
      ]
    },
    {
      "cell_type": "code",
      "source": [
        "n=(12,9,23,26,1,13) #int values\n",
        "print(len(n))\n",
        "print(max(n))\n",
        "print(min(n))"
      ],
      "metadata": {
        "colab": {
          "base_uri": "https://localhost:8080/"
        },
        "id": "2WPI8nqOTw9P",
        "outputId": "e3fbd699-af19-4ea4-ee34-ce333477b4c0"
      },
      "execution_count": null,
      "outputs": [
        {
          "output_type": "stream",
          "name": "stdout",
          "text": [
            "6\n",
            "26\n",
            "1\n"
          ]
        }
      ]
    },
    {
      "cell_type": "code",
      "source": [
        "#uhbuygbugv7gtf6redte4sww3qew3qsae4xwcfr"
      ],
      "metadata": {
        "id": "2ezjAhrMUYy4"
      },
      "execution_count": null,
      "outputs": []
    },
    {
      "cell_type": "code",
      "source": [],
      "metadata": {
        "id": "jBPzyahAVvzu"
      },
      "execution_count": null,
      "outputs": []
    }
  ]
}